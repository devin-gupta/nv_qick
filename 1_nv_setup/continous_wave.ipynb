{
 "cells": [
  {
   "cell_type": "code",
   "execution_count": null,
   "id": "25332be3",
   "metadata": {},
   "outputs": [
    {
     "name": "stdout",
     "output_type": "stream",
     "text": [
      "%pylab is deprecated, use %matplotlib inline and import the required libraries.\n",
      "Populating the interactive namespace from numpy and matplotlib\n"
     ]
    }
   ],
   "source": [
    "from qick import *\n",
    "import time\n",
    "%pylab inline"
   ]
  },
  {
   "cell_type": "code",
   "execution_count": null,
   "id": "7279d440",
   "metadata": {},
   "outputs": [
    {
     "ename": "_IncompleteInputError",
     "evalue": "incomplete input (1265942576.py, line 1)",
     "output_type": "error",
     "traceback": [
      "  \u001b[36mCell\u001b[39m\u001b[36m \u001b[39m\u001b[32mIn[5]\u001b[39m\u001b[32m, line 1\u001b[39m\n\u001b[31m    \u001b[39m\u001b[31mclass ContinousWaveProgram(QickProgram):\u001b[39m\n                                            ^\n\u001b[31m_IncompleteInputError\u001b[39m\u001b[31m:\u001b[39m incomplete input\n"
     ]
    }
   ],
   "source": [
    "class ContinousWaveProgram(QickProgram):\n",
    "    def initialize(self):\n",
    "        self.declare_gen(ch=self.cfg[\"gen_ch\"], nqz=1) # check the nyquist zone of our DAC\n",
    "        freq_reg = self.freq2reg(self.cfg[\"freq\"], gen_ch=self.cfg[\"gen_ch\"])\n",
    "\n",
    "        gain_reg = self.cfg[\"gain\"]\n",
    "\n",
    "        self.set_pulse_registers(ch=self.cfg[\"gen_ch\"],\n",
    "            freq=freq_reg,\n",
    "            gain=gain_reg,\n",
    "            length=10,  # A small length is sufficient for continuous DDS output\n",
    "            mode=1,     # Repeat the current waveform indefinitely\n",
    "            outsel=1, # Use DDS directly for a continuous sinusoid\n",
    "        ) \n",
    "\n",
    "        self.synci(200)\n",
    "\n",
    "    def body(self):\n",
    "        # Fire the pulse at time 0. Because mode=1 is set, it will continue to stream.\n",
    "        self.pulse(ch=self.cfg[\"gen_ch\"], t=0)\n",
    "\n",
    "        # Since it's a continuous wave, we don't have a specific \"readout\" or \"end\" to wait for within a loop.\n",
    "        # If this were part of a larger program, you'd have more complex timing.\n",
    "        # For continuous output, the program will run and the wave will persist until the board is reset\n",
    "        # or a new program is loaded/run that overwrites this output.\n",
    "        \n",
    "        # We'll include a long sync_all to keep the tProcessor from looping quickly,\n",
    "        # but the wave itself will continue to output.\n",
    "        self.sync_all(self.us2cycles(1000)) # Sync for 1000 us (1 ms)\n",
    "\n",
    "\n"
   ]
  },
  {
   "cell_type": "code",
   "execution_count": null,
   "id": "ca56d3dc",
   "metadata": {},
   "outputs": [],
   "source": [
    "GEN_CH = 6\n",
    "\n",
    "config = {\n",
    "    \"gen_ch\": GEN_CH,\n",
    "    \"freq\": 2870.0,  # Desired frequency in MHz (2.87 GHz)\n",
    "    \"gain\": 5000    # A safe gain value (out of max 32767). Adjust as needed, but start conservative.\n",
    "}\n",
    "\n",
    "soc = QickSoc()\n",
    "soccfg = soc\n"
   ]
  },
  {
   "cell_type": "code",
   "execution_count": null,
   "id": "efb08fd3",
   "metadata": {},
   "outputs": [],
   "source": [
    "print(f\"Attempting to generate continuous wave on channel {config['gen_ch']} at {config['freq']} MHz with gain {config['gain']}.\")\n",
    "\n",
    "prog = ContinuousWaveProgram(soccfg, config)\n",
    "prog.run()\n",
    "\n",
    "print(\"Continuous wave is now being generated. You may need to manually stop the output.\")\n",
    "print(\"To stop, you can run `soc.reset_gens()` or load a new program that sets gain to 0.\")\n",
    "\n",
    "time.sleep(5) # Run for 5 seconds\n",
    "\n",
    "# To stop the generators manually later in your script or in a new cell:\n",
    "soc.reset_gens()\n",
    "print(\"Generators reset.\")\n"
   ]
  }
 ],
 "metadata": {
  "kernelspec": {
   "display_name": ".venv",
   "language": "python",
   "name": "python3"
  },
  "language_info": {
   "codemirror_mode": {
    "name": "ipython",
    "version": 3
   },
   "file_extension": ".py",
   "mimetype": "text/x-python",
   "name": "python",
   "nbconvert_exporter": "python",
   "pygments_lexer": "ipython3",
   "version": "3.13.2"
  }
 },
 "nbformat": 4,
 "nbformat_minor": 5
}
